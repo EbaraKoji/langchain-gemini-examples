{
 "cells": [
  {
   "cell_type": "code",
   "execution_count": 1,
   "metadata": {},
   "outputs": [],
   "source": [
    "from langchain.embeddings.vertexai import VertexAIEmbeddings\n",
    "from langchain.text_splitter import CharacterTextSplitter\n",
    "from langchain.vectorstores.faiss import FAISS\n",
    "from PyPDF2 import PdfReader"
   ]
  },
  {
   "cell_type": "code",
   "execution_count": 12,
   "metadata": {},
   "outputs": [],
   "source": [
    "pdfreader = PdfReader('/Users/ebarakoji/Desktop/on_the_danger_of_stochastic_parrots.pdf')"
   ]
  },
  {
   "cell_type": "code",
   "execution_count": 13,
   "metadata": {},
   "outputs": [],
   "source": [
    "from typing_extensions import Concatenate\n",
    "# read text from pdf\n",
    "\n",
    "raw_text = ''\n",
    "for i, page in enumerate(pdfreader.pages):\n",
    "    content = page.extract_text()\n",
    "    if content:\n",
    "        raw_text += content"
   ]
  },
  {
   "cell_type": "code",
   "execution_count": 14,
   "metadata": {},
   "outputs": [
    {
     "name": "stdout",
     "output_type": "stream",
     "text": [
      "itchell\n",
      "shmargaret.shmitchell@gmail.com\n",
      "The Aether\n",
      "ABSTRACT\n",
      "The past 3 years of work in NLP have been characterized by the\n",
      "development and deployment of ever larger language models, es-\n",
      "pecially for English. BERT, its variants, GPT-2/3, and others, most\n",
      "recently Switch-C, have pushed the boundaries of the possible both\n",
      "through architectural innovations and through sheer size. Using\n",
      "these pretrained models and the methodology of fine-tuning them\n",
      "for specific tasks, researchers have extended the s\n"
     ]
    }
   ],
   "source": [
    "print(raw_text[300:800])"
   ]
  },
  {
   "cell_type": "code",
   "execution_count": 16,
   "metadata": {},
   "outputs": [],
   "source": [
    "text_splitter = CharacterTextSplitter(\n",
    "    separator='\\n',\n",
    "    chunk_size=800,\n",
    "    chunk_overlap=200,\n",
    "    length_function=len,\n",
    ")\n",
    "texts = text_splitter.split_text(raw_text)"
   ]
  },
  {
   "cell_type": "code",
   "execution_count": 17,
   "metadata": {},
   "outputs": [
    {
     "data": {
      "text/plain": [
       "182"
      ]
     },
     "execution_count": 17,
     "metadata": {},
     "output_type": "execute_result"
    }
   ],
   "source": [
    "len(texts)"
   ]
  },
  {
   "cell_type": "code",
   "execution_count": 19,
   "metadata": {},
   "outputs": [
    {
     "name": "stdout",
     "output_type": "stream",
     "text": [
      "manceoflanguagetechnologycanfacilitateareallocationofefforts\n",
      "towards approaches that avoid some of these risks while still reap-\n",
      "ing the benefits of improvements to language technology.\n",
      "2 BACKGROUND\n",
      "Similar to [ 14], we understand the term language model (LM) to\n",
      "refertosystemswhicharetrainedonstringpredictiontasks:thatis,\n",
      "predictingthelikelihoodofatoken(character,wordorstring)given\n",
      "either its preceding context or (in bidirectional and masked LMs)\n",
      "its surrounding context. Such systems are unsupervised and when\n",
      "deployed,takeatextasinput,commonlyoutputtingscoresorstring\n",
      "predictions. Initially proposed by Shannon in 1949 [ 117], some of\n",
      "the earliest implemented LMs date to the early 1980s and were used\n",
      "as components in systems for automatic speech recognition (ASR),\n"
     ]
    }
   ],
   "source": [
    "print(texts[10])"
   ]
  },
  {
   "cell_type": "code",
   "execution_count": 21,
   "metadata": {},
   "outputs": [],
   "source": [
    "embeddings = VertexAIEmbeddings('textembedding-gecko@001')"
   ]
  },
  {
   "cell_type": "code",
   "execution_count": 22,
   "metadata": {},
   "outputs": [],
   "source": [
    "document_search = FAISS.from_texts(texts, embeddings)"
   ]
  },
  {
   "cell_type": "code",
   "execution_count": 23,
   "metadata": {},
   "outputs": [
    {
     "data": {
      "text/plain": [
       "<langchain_community.vectorstores.faiss.FAISS at 0x11e42a150>"
      ]
     },
     "execution_count": 23,
     "metadata": {},
     "output_type": "execute_result"
    }
   ],
   "source": [
    "document_search"
   ]
  },
  {
   "cell_type": "code",
   "execution_count": 24,
   "metadata": {},
   "outputs": [],
   "source": [
    "from langchain.chains.question_answering import load_qa_chain\n",
    "from langchain_google_vertexai import VertexAI"
   ]
  },
  {
   "cell_type": "code",
   "execution_count": 25,
   "metadata": {},
   "outputs": [],
   "source": [
    "llm = VertexAI(model_name='gemini-pro')"
   ]
  },
  {
   "cell_type": "code",
   "execution_count": 26,
   "metadata": {},
   "outputs": [],
   "source": [
    "chain = load_qa_chain(llm, chain_type='stuff')"
   ]
  },
  {
   "cell_type": "code",
   "execution_count": 39,
   "metadata": {},
   "outputs": [
    {
     "name": "stdout",
     "output_type": "stream",
     "text": [
      "The possible risks associated with NLP technology include synthetic text that lacks accountability and can deceive humans, the potential for bias and discrimination based on the training data used, and the environmental and financial costs associated with building and using large language models. Possible paths for mitigating these risks include conducting careful planning and research to ensure the ethical development of NLP technology, investing in curating and carefully documenting datasets, using dual-use scenarios to explore the potential benefits and risks of NLP technology, and developing techniques for approaching NLP tasks that are effective without being overly data-hungry.\n"
     ]
    }
   ],
   "source": [
    "query = 'What are the possible risks associated with NLP technology, and what paths are available for mitigating those risks?'\n",
    "docs = document_search.similarity_search(query)\n",
    "result = chain.run(input_documents=docs, question=query)\n",
    "print(result)"
   ]
  },
  {
   "cell_type": "code",
   "execution_count": 40,
   "metadata": {},
   "outputs": [
    {
     "name": "stdout",
     "output_type": "stream",
     "text": [
      "**Risks Associated with NLP Technology:**\n",
      "\n",
      "1. **Bias**: NLP models can inherit and amplify biases present in the training data. This can lead to unfair or discriminatory outcomes, particularly when used in applications like hiring, lending, and healthcare.\n",
      "\n",
      "2. **Privacy**: NLP models often rely on sensitive personal data, such as medical records or financial information, which raises concerns about data privacy and security.\n",
      "\n",
      "3. **Transparency**: NLP models can be complex and difficult to interpret, making it challenging to understand how they arrive at their conclusions. This lack of transparency can hinder accountability and trust in the technology.\n",
      "\n",
      "4. **Misinformation and Fake News**: NLP can be used to generate convincing but false content, which can spread misinformation and contribute to the spread of fake news.\n",
      "\n",
      "5. **Job Displacement**: As NLP technology advances, it is possible that certain jobs involving language processing, such as content moderation or customer service, could be automated, leading to job displacement.\n",
      "\n",
      "**Paths for Mitigating Risks:**\n",
      "\n",
      "1. **Data Quality and Ethical Considerations**: Carefully curate and clean training data to reduce biases and ensure fairness. Establish ethical guidelines for the development and deployment of NLP systems.\n",
      "\n",
      "2. **Privacy and Data Security**: Implement robust security measures to protect sensitive personal data. Seek consent from individuals before using their data for NLP training and deployment.\n",
      "\n",
      "3. **Explainability and Transparency**: Develop techniques to make NLP models more interpretable and transparent. Provide explanations for model predictions to increase trust and accountability.\n",
      "\n",
      "4. **Combating Misinformation**: Utilize NLP technology to detect and flag potentially misleading or false content. Support initiatives aimed at promoting digital literacy and critical thinking.\n",
      "\n",
      "5. **Preparing for Job Displacement**: Invest in programs that provide training and support to workers at risk of displacement due to NLP automation. Foster a culture of lifelong learning and adaptability in the workforce.\n"
     ]
    }
   ],
   "source": [
    "# questioning without docs\n",
    "print(llm.invoke(query))"
   ]
  }
 ],
 "metadata": {
  "kernelspec": {
   "display_name": "langchain_gemini",
   "language": "python",
   "name": "python3"
  },
  "language_info": {
   "codemirror_mode": {
    "name": "ipython",
    "version": 3
   },
   "file_extension": ".py",
   "mimetype": "text/x-python",
   "name": "python",
   "nbconvert_exporter": "python",
   "pygments_lexer": "ipython3",
   "version": "3.11.7"
  }
 },
 "nbformat": 4,
 "nbformat_minor": 2
}
