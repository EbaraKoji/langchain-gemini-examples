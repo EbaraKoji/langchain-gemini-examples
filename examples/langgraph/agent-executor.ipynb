{
 "cells": [
  {
   "cell_type": "markdown",
   "metadata": {},
   "source": [
    "# LangGraph: Agent Executor\n",
    "\n",
    "[LangGraph](https://python.langchain.com/docs/langgraph) \\\n",
    "[Tutorial on Youtube](https://www.youtube.com/watch?v=9dXp5q3OFdQ&list=PLfaIDFEXuae16n2TWUkKq5PgJ0w6Pkwtg&index=3&ab_channel=LangChain) \\\n",
    "[Tools: Google Search](https://python.langchain.com/docs/integrations/tools/google_search)"
   ]
  },
  {
   "cell_type": "code",
   "execution_count": 1,
   "metadata": {},
   "outputs": [
    {
     "data": {
      "text/plain": [
       "False"
      ]
     },
     "execution_count": 1,
     "metadata": {},
     "output_type": "execute_result"
    }
   ],
   "source": [
    "import os\n",
    "import sys\n",
    "\n",
    "from dotenv import load_dotenv\n",
    "\n",
    "sys.path.append(os.path.abspath(os.pardir))\n",
    "load_dotenv('../.env')"
   ]
  },
  {
   "cell_type": "code",
   "execution_count": 2,
   "metadata": {},
   "outputs": [],
   "source": [
    "assert os.environ['LANGCHAIN_TRACING_V2']"
   ]
  },
  {
   "cell_type": "code",
   "execution_count": 3,
   "metadata": {},
   "outputs": [],
   "source": [
    "from langchain_google_vertexai import VertexAI\n",
    "\n",
    "llm = VertexAI(model_name='gemini-pro')"
   ]
  },
  {
   "cell_type": "code",
   "execution_count": 4,
   "metadata": {},
   "outputs": [],
   "source": [
    "from langchain.tools import Tool\n",
    "from langchain_community.utilities import GoogleSearchAPIWrapper\n",
    "\n",
    "search = GoogleSearchAPIWrapper(k=5)\n",
    "\n",
    "\n",
    "def top5_results(query) -> str:\n",
    "    return search.results(query, 5)\n",
    "\n",
    "\n",
    "tools = [\n",
    "    Tool(\n",
    "        name=\"Google Search Snippets\",\n",
    "        description=\"Search Google for recent results.\",\n",
    "        func=search.run,\n",
    "        # func=top5_results,\n",
    "    )\n",
    "]"
   ]
  },
  {
   "cell_type": "code",
   "execution_count": 5,
   "metadata": {},
   "outputs": [
    {
     "data": {
      "text/plain": [
       "PromptTemplate(input_variables=['agent_scratchpad', 'input', 'tool_names', 'tools'], template='Answer the following questions as best you can. You have access to the following tools:\\n\\n{tools}\\n\\nUse the following format:\\n\\nQuestion: the input question you must answer\\nThought: you should always think about what to do\\nAction: the action to take, should be one of [{tool_names}]\\nAction Input: the input to the action\\nObservation: the result of the action\\n... (this Thought/Action/Action Input/Observation can repeat N times)\\nThought: I now know the final answer\\nFinal Answer: the final answer to the original input question\\n\\nBegin!\\n\\nQuestion: {input}\\nThought:{agent_scratchpad}')"
      ]
     },
     "execution_count": 5,
     "metadata": {},
     "output_type": "execute_result"
    }
   ],
   "source": [
    "from langchain import hub\n",
    "\n",
    "prompt = hub.pull(\"hwchase17/react\")\n",
    "prompt"
   ]
  },
  {
   "cell_type": "code",
   "execution_count": 6,
   "metadata": {},
   "outputs": [],
   "source": [
    "from langchain.agents import create_react_agent\n",
    "\n",
    "agent_runnable = create_react_agent(llm, tools, prompt)"
   ]
  },
  {
   "cell_type": "code",
   "execution_count": 7,
   "metadata": {},
   "outputs": [],
   "source": [
    "from typing import TypedDict, Annotated, List, Union\n",
    "from langchain_core.agents import AgentAction, AgentFinish\n",
    "from langchain_core.messages import BaseMessage\n",
    "import operator\n",
    "\n",
    "\n",
    "class AgentState(TypedDict):\n",
    "    input: str\n",
    "    chat_history: list[BaseMessage]\n",
    "    agent_outcome: Union[AgentAction, AgentFinish, None]\n",
    "    intermediate_steps: Annotated[list[tuple[AgentAction, str]], operator.add]"
   ]
  },
  {
   "cell_type": "code",
   "execution_count": 8,
   "metadata": {},
   "outputs": [],
   "source": [
    "from langchain_core.agents import AgentFinish\n",
    "from langgraph.prebuilt.tool_executor import ToolExecutor\n",
    "\n",
    "tool_executor = ToolExecutor(tools)\n",
    "\n",
    "\n",
    "def run_agent(data):\n",
    "    agent_outcome = agent_runnable.invoke(data)\n",
    "    return {\"agent_outcome\": agent_outcome}\n",
    "\n",
    "\n",
    "def execute_tools(data):\n",
    "    agent_action = data[\"agent_outcome\"]\n",
    "    output = tool_executor.invoke(agent_action)\n",
    "    return {\"intermediate_steps\": [(agent_action, str(output))]}\n",
    "\n",
    "\n",
    "def should_continue(data):\n",
    "    if isinstance(data[\"agent_outcome\"], AgentFinish):\n",
    "        return \"end\"\n",
    "    else:\n",
    "        return \"continue\""
   ]
  },
  {
   "cell_type": "code",
   "execution_count": 9,
   "metadata": {},
   "outputs": [],
   "source": [
    "from langgraph.graph import END, StateGraph\n",
    "\n",
    "workflow = StateGraph(AgentState)\n",
    "\n",
    "workflow.add_node(\"agent\", run_agent)\n",
    "workflow.add_node(\"action\", execute_tools)\n",
    "workflow.set_entry_point(\"agent\")\n",
    "workflow.add_conditional_edges(\n",
    "    \"agent\",\n",
    "    should_continue,\n",
    "    {\n",
    "        \"continue\": \"action\",\n",
    "        \"end\": END,\n",
    "    },\n",
    ")\n",
    "\n",
    "workflow.add_edge(\"action\", \"agent\")\n",
    "\n",
    "app = workflow.compile()"
   ]
  },
  {
   "cell_type": "code",
   "execution_count": 10,
   "metadata": {},
   "outputs": [
    {
     "name": "stdout",
     "output_type": "stream",
     "text": [
      "{'agent_outcome': AgentAction(tool='Google Search Snippets', tool_input='what is the weather in sf', log='Action: Google Search Snippets\\nAction Input: what is the weather in sf')}\n",
      "----\n",
      "{'intermediate_steps': [(AgentAction(tool='Google Search Snippets', tool_input='what is the weather in sf', log='Action: Google Search Snippets\\nAction Input: what is the weather in sf'), \"Be prepared with the most accurate 10-day forecast for San Francisco, CA with highs, lows, chance of precipitation from The Weather Channel and Weather.com. Hourly Weather · 1 AM 51°. rain drop 59% · 2 AM 51°. rain drop 49% · 3 AM 51°. rain drop 49% · 4 AM 51°. rain drop 69% · 5 AM 51°. rain drop 49% · 6 AM 51°. Today's and tonight's San Francisco, CA weather forecast, weather conditions and Doppler radar from The Weather Channel and Weather.com. Current conditions at. SAN FRANCISCO DOWNTOWN (SFOC1). Lat: 37.77056°NLon: 122.42694°WElev: 150.0ft. NA. 53°F. 12°C. Humidity, 79%. Wind Speed, NA NA MPH. 8:00 pm · Feels Like42° · WindW 14 mph · Humidity77% · UV Index0 of 11 · Cloud Cover83% · Rain Amount0.02 in\\xa0...\")]}\n",
      "----\n",
      "{'agent_outcome': AgentFinish(return_values={'output': 'The weather in San Francisco today is 53°F with rain showers and a humidity of 79%.'}, log='Final Answer: The weather in San Francisco today is 53°F with rain showers and a humidity of 79%.')}\n",
      "----\n",
      "{'input': 'what is the weather in sf', 'chat_history': [], 'agent_outcome': AgentFinish(return_values={'output': 'The weather in San Francisco today is 53°F with rain showers and a humidity of 79%.'}, log='Final Answer: The weather in San Francisco today is 53°F with rain showers and a humidity of 79%.'), 'intermediate_steps': [(AgentAction(tool='Google Search Snippets', tool_input='what is the weather in sf', log='Action: Google Search Snippets\\nAction Input: what is the weather in sf'), \"Be prepared with the most accurate 10-day forecast for San Francisco, CA with highs, lows, chance of precipitation from The Weather Channel and Weather.com. Hourly Weather · 1 AM 51°. rain drop 59% · 2 AM 51°. rain drop 49% · 3 AM 51°. rain drop 49% · 4 AM 51°. rain drop 69% · 5 AM 51°. rain drop 49% · 6 AM 51°. Today's and tonight's San Francisco, CA weather forecast, weather conditions and Doppler radar from The Weather Channel and Weather.com. Current conditions at. SAN FRANCISCO DOWNTOWN (SFOC1). Lat: 37.77056°NLon: 122.42694°WElev: 150.0ft. NA. 53°F. 12°C. Humidity, 79%. Wind Speed, NA NA MPH. 8:00 pm · Feels Like42° · WindW 14 mph · Humidity77% · UV Index0 of 11 · Cloud Cover83% · Rain Amount0.02 in\\xa0...\")]}\n",
      "----\n"
     ]
    }
   ],
   "source": [
    "inputs = {\"input\": \"what is the weather in sf\", \"chat_history\": []}\n",
    "for s in app.stream(inputs):\n",
    "    print(list(s.values())[0])\n",
    "    print(\"----\")"
   ]
  },
  {
   "cell_type": "code",
   "execution_count": 11,
   "metadata": {},
   "outputs": [
    {
     "data": {
      "text/plain": [
       "{'input': 'what is the weather in sf',\n",
       " 'chat_history': [],\n",
       " 'agent_outcome': AgentFinish(return_values={'output': 'There is rain in SF with 59% chance of precipitation and temperature of 51° F'}, log=' I now know the final answer\\nFinal Answer: There is rain in SF with 59% chance of precipitation and temperature of 51° F'),\n",
       " 'intermediate_steps': [(AgentAction(tool='Google Search Snippets', tool_input='what is the weather in sf', log='Action: Google Search Snippets\\nAction Input: what is the weather in sf'),\n",
       "   \"Be prepared with the most accurate 10-day forecast for San Francisco, CA with highs, lows, chance of precipitation from The Weather Channel and Weather.com. Hourly Weather · 1 AM 51°. rain drop 59% · 2 AM 51°. rain drop 49% · 3 AM 51°. rain drop 49% · 4 AM 51°. rain drop 69% · 5 AM 51°. rain drop 49% · 6 AM 51°. Today's and tonight's San Francisco, CA weather forecast, weather conditions and Doppler radar from The Weather Channel and Weather.com. Current conditions at. SAN FRANCISCO DOWNTOWN (SFOC1). Lat: 37.77056°NLon: 122.42694°WElev: 150.0ft. NA. 53°F. 12°C. Humidity, 79%. Wind Speed, NA NA MPH. 8:00 pm · Feels Like42° · WindW 14 mph · Humidity77% · UV Index0 of 11 · Cloud Cover83% · Rain Amount0.02 in\\xa0...\"),\n",
       "  (AgentAction(tool='Google Search Snippets', tool_input='weather sf', log='Action: Google Search Snippets\\nAction Input: weather sf'),\n",
       "   'Be prepared with the most accurate 10-day forecast for San Francisco, CA with highs, lows, chance of precipitation from The Weather Channel and Weather.com. San Francisco Weather Forecasts. Weather Underground provides local & long-range weather forecasts, weatherreports, maps & tropical weather conditions for\\xa0... Be prepared with the most accurate 10-day forecast for Inverness, CA with highs, lows, chance of precipitation from The Weather Channel and Weather.com. Hourly Weather · 1 AM 51°. rain drop 59% · 2 AM 51°. rain drop 49% · 3 AM 51°. rain drop 49% · 4 AM 51°. rain drop 69% · 5 AM 51°. rain drop 49% · 6 AM 51°. 8:00 pm · Feels Like42° · WindW 14 mph · Humidity77% · UV Index0 of 11 · Cloud Cover83% · Rain Amount0.02 in\\xa0...'),\n",
       "  (AgentAction(tool='Google Search Snippets', tool_input='weather in san francisco', log='Action: Google Search Snippets\\nAction Input: weather in san francisco'),\n",
       "   'Be prepared with the most accurate 10-day forecast for San Francisco, CA with highs, lows, chance of precipitation from The Weather Channel and Weather.com. Hourly Weather · 1 AM 51°. rain drop 59% · 2 AM 51°. rain drop 49% · 3 AM 51°. rain drop 49% · 4 AM 51°. rain drop 69% · 5 AM 51°. rain drop 49% · 6 AM 51°. 8:00 pm · Feels Like42° · WindW 14 mph · Humidity77% · UV Index0 of 11 · Cloud Cover83% · Rain Amount0.02 in\\xa0... San Francisco Weather Forecasts. Weather Underground provides local & long-range weather forecasts, weatherreports, maps & tropical weather conditions for\\xa0... Local Forecast OfficeMore Local Wx3 Day HistoryMobile WeatherHourly Weather Forecast. Extended Forecast for. San Francisco CA. High Surf Advisory March 1, 10\\xa0...')]}"
      ]
     },
     "execution_count": 11,
     "metadata": {},
     "output_type": "execute_result"
    }
   ],
   "source": [
    "output = app.invoke(inputs)\n",
    "output"
   ]
  },
  {
   "cell_type": "code",
   "execution_count": 12,
   "metadata": {},
   "outputs": [],
   "source": [
    "from langchain_core.messages import HumanMessage, AIMessage\n",
    "\n",
    "chat_history = [\n",
    "    HumanMessage(content=inputs['input']),\n",
    "    AIMessage(content=output['agent_outcome'].return_values['output'])\n",
    "]\n",
    "inputs = {\"input\": \"then what is the weather in LA\", \"chat_history\": chat_history}"
   ]
  },
  {
   "cell_type": "code",
   "execution_count": 13,
   "metadata": {},
   "outputs": [
    {
     "data": {
      "text/plain": [
       "{'input': 'then what is the weather in LA',\n",
       " 'chat_history': [HumanMessage(content='what is the weather in sf'),\n",
       "  AIMessage(content='There is rain in SF with 59% chance of precipitation and temperature of 51° F')],\n",
       " 'agent_outcome': AgentFinish(return_values={'output': 'According to the weather channel, the current weather in Los Angeles, CA is 55 degrees Fahrenheit and feels like 55 degrees. The humidity is 80%, there is 0% chance of rain, and the wind is 2 mph.'}, log='Final Answer: According to the weather channel, the current weather in Los Angeles, CA is 55 degrees Fahrenheit and feels like 55 degrees. The humidity is 80%, there is 0% chance of rain, and the wind is 2 mph.'),\n",
       " 'intermediate_steps': [(AgentAction(tool='Google Search Snippets', tool_input='la weather', log='Action: Google Search Snippets\\nAction Input: la weather'),\n",
       "   \"Be prepared with the most accurate 10-day forecast for Los Angeles, CA with highs, lows, chance of precipitation from The Weather Channel and Weather.com. Hourly Weather · 1 AM 54°. rain drop 7% · 2 AM 54°. rain drop 7% · 3 AM 53°. rain drop 7% · 4 AM 53°. rain drop 7% · 5 AM 52°. rain drop 7% · 6 AM 52°. rain\\xa0... Today's and tonight's Los Angeles, CA weather forecast, weather conditions and Doppler radar from The Weather Channel and Weather.com. NWS Forecast Office Los Angeles, CA ... Click a location below for detailed forecast. ... Comments? Questions? Please Contact Us. Disclaimer · Information Quality 11:00 pm · Feels Like55° · WindW 2 mph · Humidity80% · UV Index0 of 11 · Cloud Cover73% · Rain Amount0.01 in\\xa0...\")]}"
      ]
     },
     "execution_count": 13,
     "metadata": {},
     "output_type": "execute_result"
    }
   ],
   "source": [
    "output = app.invoke(inputs)\n",
    "output"
   ]
  },
  {
   "cell_type": "code",
   "execution_count": 14,
   "metadata": {},
   "outputs": [
    {
     "data": {
      "text/plain": [
       "'According to the weather channel, the current weather in Los Angeles, CA is 55 degrees Fahrenheit and feels like 55 degrees. The humidity is 80%, there is 0% chance of rain, and the wind is 2 mph.'"
      ]
     },
     "execution_count": 14,
     "metadata": {},
     "output_type": "execute_result"
    }
   ],
   "source": [
    "output['agent_outcome'].return_values['output']"
   ]
  }
 ],
 "metadata": {
  "kernelspec": {
   "display_name": "langchain_gemini",
   "language": "python",
   "name": "python3"
  },
  "language_info": {
   "codemirror_mode": {
    "name": "ipython",
    "version": 3
   },
   "file_extension": ".py",
   "mimetype": "text/x-python",
   "name": "python",
   "nbconvert_exporter": "python",
   "pygments_lexer": "ipython3",
   "version": "3.11.7"
  }
 },
 "nbformat": 4,
 "nbformat_minor": 2
}
