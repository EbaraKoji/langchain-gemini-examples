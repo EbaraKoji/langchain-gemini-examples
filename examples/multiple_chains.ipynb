{
 "cells": [
  {
   "cell_type": "markdown",
   "metadata": {},
   "source": [
    "# Multiple Chains\n",
    "\n",
    "[Multiple Chains](https://python.langchain.com/docs/expression_language/cookbook/multiple_chains)\n",
    "[RunnablePassthrough](https://python.langchain.com/docs/expression_language/how_to/passthrough)"
   ]
  },
  {
   "cell_type": "code",
   "execution_count": 1,
   "metadata": {},
   "outputs": [
    {
     "data": {
      "text/plain": [
       "True"
      ]
     },
     "execution_count": 1,
     "metadata": {},
     "output_type": "execute_result"
    }
   ],
   "source": [
    "import os\n",
    "import sys\n",
    "\n",
    "from dotenv import load_dotenv\n",
    "\n",
    "sys.path.append(os.path.abspath(os.pardir))\n",
    "load_dotenv('../.env')"
   ]
  },
  {
   "cell_type": "code",
   "execution_count": 2,
   "metadata": {},
   "outputs": [],
   "source": [
    "from langchain_google_vertexai import VertexAI\n",
    "\n",
    "llm = VertexAI(model_name='gemini-pro')"
   ]
  },
  {
   "cell_type": "code",
   "execution_count": 19,
   "metadata": {},
   "outputs": [],
   "source": [
    "from operator import itemgetter\n",
    "\n",
    "from langchain.prompts import ChatPromptTemplate\n",
    "from langchain.schema import StrOutputParser\n",
    "from langchain_core.runnables import RunnablePassthrough\n",
    "\n",
    "planner = (ChatPromptTemplate.from_template(\"Generate an argument about: {input}\")\n",
    "           | llm\n",
    "           | StrOutputParser()\n",
    "           | {\n",
    "               \"base_response\": RunnablePassthrough()\n",
    "           })\n",
    "\n",
    "arguments_for = (ChatPromptTemplate.from_template(\"List the pros or positive aspects of {base_response}\")\n",
    "                 | llm\n",
    "                 | StrOutputParser())\n",
    "arguments_against = (ChatPromptTemplate.from_template(\"List the cons or negative aspects of {base_response}\")\n",
    "                     | llm\n",
    "                     | StrOutputParser())\n",
    "\n",
    "final_responder = (ChatPromptTemplate.from_messages([\n",
    "    (\"ai\", \"{original_response}\"),\n",
    "    (\"human\", \"Pros:\\n{results_1}\\n\\nCons:\\n{results_2}\"),\n",
    "    (\"system\", \"Generate a final response given the critique\"),\n",
    "])\n",
    "                   | llm\n",
    "                   | StrOutputParser())\n",
    "\n",
    "chain = (planner\n",
    "         | {\n",
    "             \"results_1\": arguments_for,\n",
    "             \"results_2\": arguments_against,\n",
    "             \"original_response\": itemgetter(\"base_response\"),\n",
    "         }\n",
    "         | final_responder)"
   ]
  },
  {
   "cell_type": "code",
   "execution_count": 20,
   "metadata": {},
   "outputs": [],
   "source": [
    "output = chain.invoke({\"input\": \"scrum\"})"
   ]
  },
  {
   "cell_type": "code",
   "execution_count": 22,
   "metadata": {},
   "outputs": [
    {
     "data": {
      "text/markdown": [
       "**Rebuttal to Critique**\n",
       "\n",
       "While the critique raises valid points about the potential drawbacks of Scrum, it is important to consider the following counterarguments:\n",
       "\n",
       "**Complexity:** Scrum can be complex to implement, but with proper training and support, teams can overcome this challenge. Additionally, the benefits of Scrum, such as increased productivity and improved quality, often outweigh the initial complexity.\n",
       "\n",
       "**Time-consuming:** Scrum can be time-consuming, but it is designed to eliminate waste and inefficiencies in the development process. By focusing on regular planning and review, Scrum helps teams to identify and address issues early on, reducing the likelihood of costly delays later in the project.\n",
       "\n",
       "**Lack of flexibility:** Scrum is a prescriptive framework, but it also allows for customization and adaptation to specific team needs. Teams can tailor Scrum processes to suit their unique context and project requirements.\n",
       "\n",
       "**Over-reliance on documentation:** Scrum documentation is essential for transparency and communication, but it should be kept to a minimum. Teams can use tools and templates to streamline documentation and avoid unnecessary paperwork.\n",
       "\n",
       "**Difficulty measuring progress:** Scrum provides several mechanisms for measuring progress, such as sprint goals, burndown charts, and retrospectives. By regularly tracking progress and collecting feedback, teams can identify areas for improvement and make data-driven decisions.\n",
       "\n",
       "Overall, while Scrum is not perfect, its benefits far outweigh its potential drawbacks. With proper implementation and customization, Scrum can help teams to achieve greater productivity, quality, and customer satisfaction."
      ],
      "text/plain": [
       "<IPython.core.display.Markdown object>"
      ]
     },
     "metadata": {},
     "output_type": "display_data"
    }
   ],
   "source": [
    "from IPython.display import display, Markdown\n",
    "display(Markdown(output))"
   ]
  },
  {
   "cell_type": "code",
   "execution_count": 23,
   "metadata": {},
   "outputs": [],
   "source": [
    "planner_output = planner.invoke({\"input\": \"scrum\"})"
   ]
  },
  {
   "cell_type": "code",
   "execution_count": 27,
   "metadata": {},
   "outputs": [
    {
     "data": {
      "text/plain": [
       "dict_keys(['base_response'])"
      ]
     },
     "execution_count": 27,
     "metadata": {},
     "output_type": "execute_result"
    }
   ],
   "source": [
    "planner_output.keys()"
   ]
  },
  {
   "cell_type": "code",
   "execution_count": 28,
   "metadata": {},
   "outputs": [
    {
     "data": {
      "text/markdown": [
       "**Title: Scrum: An Agile Framework for Enhanced Productivity**\n",
       "\n",
       "**Introduction:**\n",
       "In today's dynamic business landscape, organizations are increasingly adopting agile methodologies to foster innovation and improve project outcomes. Among these, Scrum stands as a prominent framework that has revolutionized the way teams collaborate and deliver value. This argument presents the compelling advantages of Scrum, highlighting its ability to enhance productivity, facilitate team collaboration, and drive continuous improvement.\n",
       "\n",
       "**Point 1: Increased Productivity**\n",
       "Scrum's iterative and incremental approach allows teams to break down complex projects into smaller, manageable tasks. The framework emphasizes short sprints, which provide regular feedback loops and enable teams to adjust their plans as needed. By focusing on delivering small increments of value iteratively, Scrum reduces the risk of scope creep and allows teams to deliver working products faster. This iterative process significantly enhances productivity and accelerates the realization of business goals.\n",
       "\n",
       "**Point 2: Enhanced Team Collaboration**\n",
       "Scrum places immense emphasis on team collaboration and communication. The daily stand-up meetings, sprint planning sessions, and retrospectives foster a culture of transparency and accountability within the team. Members are actively encouraged to share ideas, obstacles, and progress, which promotes a sense of shared ownership and reduces siloed work. Scrum's focus on self-organizing and cross-functional teams empowers individuals to take initiative and contribute to the overall project success, resulting in enhanced team collaboration and improved outcomes.\n",
       "\n",
       "**Point 3: Continuous Improvement**\n",
       "Scrum incorporates a structured process for continuous improvement. The retrospective meetings provide a dedicated space for teams to reflect on their performance, identify areas for improvement, and implement changes to enhance future sprints. This continuous feedback loop allows teams to learn from their experiences, adapt to evolving requirements, and make incremental adjustments that lead to sustained performance improvement. By encouraging ongoing evaluation and refinement, Scrum fosters a culture of innovation and continuous learning within the organization.\n",
       "\n",
       "**Counterargument:**\n",
       "Some opponents may argue that Scrum can be too rigid or bureaucratic for certain projects. However, Scrum provides a flexible framework that can be adapted to various contexts and team dynamics. By customizing the process to meet specific project needs, organizations can harness the benefits of Scrum while tailoring it to their unique requirements.\n",
       "\n",
       "**Conclusion:**\n",
       "In conclusion, Scrum serves as a powerful agile framework that empowers teams to enhance productivity, foster collaboration, and drive continuous improvement. By adopting an iterative approach, facilitating effective communication, and encouraging ongoing refinement, Scrum enables organizations to respond swiftly to dynamic market conditions, deliver value faster, and achieve exceptional project outcomes. Its proven track record and adaptability make it a compelling choice for organizations seeking to thrive in the modern business environment."
      ],
      "text/plain": [
       "<IPython.core.display.Markdown object>"
      ]
     },
     "metadata": {},
     "output_type": "display_data"
    }
   ],
   "source": [
    "display(Markdown(planner_output['base_response']))"
   ]
  }
 ],
 "metadata": {
  "kernelspec": {
   "display_name": "langchain_gemini",
   "language": "python",
   "name": "python3"
  },
  "language_info": {
   "codemirror_mode": {
    "name": "ipython",
    "version": 3
   },
   "file_extension": ".py",
   "mimetype": "text/x-python",
   "name": "python",
   "nbconvert_exporter": "python",
   "pygments_lexer": "ipython3",
   "version": "3.11.7"
  }
 },
 "nbformat": 4,
 "nbformat_minor": 2
}
