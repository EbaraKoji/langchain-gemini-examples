{
 "cells": [
  {
   "cell_type": "code",
   "execution_count": 1,
   "metadata": {},
   "outputs": [
    {
     "data": {
      "text/plain": [
       "True"
      ]
     },
     "execution_count": 1,
     "metadata": {},
     "output_type": "execute_result"
    }
   ],
   "source": [
    "import os\n",
    "import sys\n",
    "\n",
    "from dotenv import load_dotenv\n",
    "\n",
    "sys.path.append(os.path.abspath(os.pardir))\n",
    "load_dotenv()"
   ]
  },
  {
   "cell_type": "code",
   "execution_count": 2,
   "metadata": {},
   "outputs": [],
   "source": [
    "from langchain.chains import LLMCheckerChain\n",
    "from langchain_google_genai import GoogleGenerativeAI\n",
    "\n",
    "llm = GoogleGenerativeAI(model=\"gemini-pro\", max_output_tokens=800)"
   ]
  },
  {
   "cell_type": "code",
   "execution_count": 6,
   "metadata": {},
   "outputs": [
    {
     "name": "stdout",
     "output_type": "stream",
     "text": [
      "- A Bellman equation is a mathematical tool used in dynamic programming to find the optimal solution to a decision problem.\n",
      "- It breaks down the problem into a sequence of simpler subproblems and expresses the value of a decision at a certain time in terms of the payoff from initial choices and the value of the remaining problem.\n",
      "- The Bellman equation is widely used in engineering control theory, economic theory, and other applied mathematics.\n",
      "- In discrete-time optimization problems, it is a difference equation, while in continuous-time problems, it is a partial differential equation called the Hamilton-Jacobi-Bellman equation.\n",
      "- Finding the appropriate Bellman equation for a multi-stage optimization problem can be challenging, and state augmentation may be needed, potentially leading to computational difficulties.\n",
      "- However, if the cost function has a \"backward separable\" structure, the Bellman equation can be found without state augmentation.\n"
     ]
    }
   ],
   "source": [
    "from langchain.prompts import PromptTemplate\n",
    "from langchain.schema import StrOutputParser\n",
    "\n",
    "prompt = PromptTemplate.from_template(\"Summarize this text: {text}?\")\n",
    "\n",
    "text = \"\"\"\n",
    "A Bellman equation, named after Richard E. Bellman, is a necessary condition for optimality associated with the mathematical optimization method known as dynamic programming. It writes the \"value\" of a decision problem at a certain point in time in terms of the payoff from some initial choices and the \"value\" of the remaining decision problem that results from those initial choices. This breaks a dynamic optimization problem into a sequence of simpler subproblems, as Bellman's “principle of optimality\" prescribes. The equation applies to algebraic structures with a total ordering; for algebraic structures with a partial ordering, the generic Bellman's equation can be used.\n",
    "\n",
    "The Bellman equation was first applied to engineering control theory and to other topics in applied mathematics, and subsequently became an important tool in economic theory; though the basic concepts of dynamic programming are prefigured in John von Neumann and Oskar Morgenstern's Theory of Games and Economic Behavior and Abraham Wald's sequential analysis.[citation needed] The term 'Bellman equation' usually refers to the dynamic programming equation associated with discrete-time optimization problems. In continuous-time optimization problems, the analogous equation is a partial differential equation that is called the Hamilton–Jacobi–Bellman equation.\n",
    "\n",
    "In discrete time any multi-stage optimization problem can be solved by analyzing the appropriate Bellman equation. The appropriate Bellman equation can be found by introducing new state variables (state augmentation). However, the resulting augmented-state multi-stage optimization problem has a higher dimensional state space than the original multi-stage optimization problem - an issue that can potentially render the augmented problem intractable due to the “curse of dimensionality”. Alternatively, it has been shown that if the cost function of the multi-stage optimization problem satisfies a \"backward separable\" structure, then the appropriate Bellman equation can be found without state augmentation.\n",
    "\"\"\"\n",
    "\n",
    "chain = prompt | llm | StrOutputParser()\n",
    "summary = chain.invoke({\"text\": text})\n",
    "print(summary)"
   ]
  },
  {
   "cell_type": "markdown",
   "metadata": {},
   "source": [
    "### Chain of density\n"
   ]
  },
  {
   "cell_type": "code",
   "execution_count": 14,
   "metadata": {},
   "outputs": [],
   "source": [
    "cod_template = \"\"\"Article: {text}\n",
    "You will generate increasingly concise, entity-dense summaries of the above article.\n",
    "Repeat the following 2 steps 5 times.\n",
    "Step 1. Identify 1-3 informative entities (\";\" delimited) from the article which are missing from the previously generated summary.\n",
    "Step 2. Write a new, denser summary of identical length which covers every entity and detail from the previous summary plus the missing entities.\n",
    "A missing entity is:\n",
    "- relevant to the main story,\n",
    "- specific yet concise (5 words or fewer),\n",
    "- novel (not in the previous summary),\n",
    "- faithful (present in the article),\n",
    "- anywhere (can be located anywhere in the article).\n",
    "Guidelines:\n",
    "- The first summary should be long (4-5 sentences, ~80 words) yet highly non-specific, containing little information beyond the entities marked as missing. Use overly verbose language and fillers (e.g., \"this article discusses\") to reach ~80 words.\n",
    "- Make every word count: rewrite the previous summary to improve flow and make space for additional entities.\n",
    "- Make space with fusion, compression, and removal of uninformative phrases like \"the article discusses\".\n",
    "- The summaries should become highly dense and concise yet self-contained, i.e., easily understood without the article.\n",
    "- Missing entities can appear anywhere in the new summary.\n",
    "- Never drop entities from the previous summary. If space cannot be made, add fewer new entities.\n",
    "Remember, use the exact same number of words for each summary.\n",
    "{format_instructions}\n",
    "\"\"\""
   ]
  },
  {
   "cell_type": "markdown",
   "metadata": {},
   "source": [
    "Docs: [JsonOutputParser](https://python.langchain.com/docs/modules/model_io/output_parsers/types/json)\n"
   ]
  },
  {
   "cell_type": "code",
   "execution_count": 22,
   "metadata": {},
   "outputs": [
    {
     "data": {
      "text/plain": [
       "[{'missing_entities': 'Richard E. Bellman, Dynamic programming',\n",
       "  'denser_summary': \"Richard E. Bellman's Bellman equation is a crucial optimization tool in dynamic programming. It allows breaking a dynamic optimization problem into simpler subproblems, as prescribed by Bellman's principle of optimality.\"},\n",
       " {'missing_entities': 'Algebraic structures, Total ordering, Partial ordering',\n",
       "  'denser_summary': 'The Bellman equation applies to algebraic structures with total or partial ordering. In discrete time, multi-stage optimization problems can be solved by analyzing the appropriate Bellman equation.'},\n",
       " {'missing_entities': 'Continuous-time optimization, Hamilton–Jacobi–Bellman equation',\n",
       "  'denser_summary': 'In continuous-time optimization, the Hamilton–Jacobi–Bellman equation is analogous to the Bellman equation for discrete time.'},\n",
       " {'missing_entities': 'State space, State augmentation, Curse of dimensionality',\n",
       "  'denser_summary': 'State augmentation can be used to find the appropriate Bellman equation, but it increases the dimensionality of the state space, potentially making the problem intractable.'},\n",
       " {'missing_entities': 'Backward separable structure',\n",
       "  'denser_summary': 'If the cost function satisfies a backward separable structure, the appropriate Bellman equation can be found without state augmentation.'}]"
      ]
     },
     "execution_count": 22,
     "metadata": {},
     "output_type": "execute_result"
    }
   ],
   "source": [
    "from langchain_core.output_parsers import JsonOutputParser\n",
    "from langchain_core.pydantic_v1 import BaseModel\n",
    "\n",
    "\n",
    "class COD(BaseModel):\n",
    "    missing_entities: str\n",
    "    denser_summary: str\n",
    "\n",
    "\n",
    "class COD_List(BaseModel):\n",
    "    data: list[COD]\n",
    "\n",
    "\n",
    "parser = JsonOutputParser(pydantic_object=COD_List)\n",
    "\n",
    "cod_prompt = PromptTemplate(\n",
    "    template=cod_template,\n",
    "    input_variables=[\"text\"],\n",
    "    partial_variables={\"format_instructions\": parser.get_format_instructions()}\n",
    ")\n",
    "\n",
    "chain = cod_prompt | llm | parser\n",
    "result = chain.invoke({\"text\": text})\n",
    "result['data']"
   ]
  },
  {
   "cell_type": "code",
   "execution_count": null,
   "metadata": {},
   "outputs": [],
   "source": []
  }
 ],
 "metadata": {
  "kernelspec": {
   "display_name": "langchain_gemini",
   "language": "python",
   "name": "python3"
  },
  "language_info": {
   "codemirror_mode": {
    "name": "ipython",
    "version": 3
   },
   "file_extension": ".py",
   "mimetype": "text/x-python",
   "name": "python",
   "nbconvert_exporter": "python",
   "pygments_lexer": "ipython3",
   "version": "3.12.1"
  }
 },
 "nbformat": 4,
 "nbformat_minor": 2
}
